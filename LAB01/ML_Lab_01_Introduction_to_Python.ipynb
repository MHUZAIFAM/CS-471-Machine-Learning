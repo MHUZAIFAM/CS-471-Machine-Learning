{
  "nbformat": 4,
  "nbformat_minor": 0,
  "metadata": {
    "colab": {
      "provenance": []
    },
    "kernelspec": {
      "name": "python3",
      "display_name": "Python 3"
    },
    "language_info": {
      "name": "python"
    }
  },
  "cells": [
    {
      "cell_type": "markdown",
      "source": [],
      "metadata": {
        "id": "T4GOXYCurV_i"
      }
    },
    {
      "cell_type": "code",
      "execution_count": 1,
      "metadata": {
        "colab": {
          "base_uri": "https://localhost:8080/"
        },
        "id": "JSBPdXRZrIeo",
        "outputId": "ca77c2e0-d2fd-4709-ccd3-adb332c8652e"
      },
      "outputs": [
        {
          "output_type": "stream",
          "name": "stdout",
          "text": [
            "The Values of y for the expression 'y = 4x^3 + 5x^2 + 3x + 2' are: \n",
            "for x =  1 the value of y is  14\n",
            "for x =  2 the value of y is  60\n",
            "for x =  3 the value of y is  164\n",
            "for x =  4 the value of y is  350\n",
            "for x =  5 the value of y is  642\n",
            "\n",
            "The Values of y for the expression 'y = (3x^2 + 7x)/2 - (2x)/5' are: \n",
            "for x =  1 the value of y is  4.6\n",
            "for x =  2 the value of y is  12.2\n",
            "for x =  3 the value of y is  22.8\n",
            "for x =  4 the value of y is  36.4\n",
            "for x =  5 the value of y is  53.0\n"
          ]
        }
      ],
      "source": [
        "#Write a program which evaluates the following three expressions for when x = 1,2,3,4 and 5.\n",
        "#Expression 1\n",
        "# y = 4x^3 + 5x^2 + 3x + 2\n",
        "\n",
        "#Expression 2\n",
        "# y = (3x^2 + 7x)/2 - (2x)/5\n",
        "print(\"The Values of y for the expression 'y = 4x^3 + 5x^2 + 3x + 2' are: \")\n",
        "for x in range(1,6):\n",
        "    y = 4*x**3 + 5*x**2 + 3*x + 2\n",
        "    print(\"for x = \", x, \"the value of y is \", y)\n",
        "\n",
        "print(\"\\nThe Values of y for the expression 'y = (3x^2 + 7x)/2 - (2x)/5' are: \")\n",
        "for x in range(1,6):\n",
        "    y = (3*x**2 + 7*x)/2 - (2*x)/5\n",
        "    print(\"for x = \", x, \"the value of y is \", y)"
      ]
    },
    {
      "cell_type": "code",
      "source": [
        "#prompting the user to input two number, identifying if the second one is the multiple of the first\n",
        "print(\"Enter the two numbers as follows:\")\n",
        "number1 = float(input(print(\"Enter the first number: \")))\n",
        "number2 = float(input(print(\"Enter the second number:\")))\n",
        "if(number2%number1 == 0):\n",
        "    print(number2, \"is a multiple of\", number1)\n",
        "else:\n",
        "    print(number2, \"is not a multiple of\", number1)"
      ],
      "metadata": {
        "colab": {
          "base_uri": "https://localhost:8080/"
        },
        "id": "ljrbOoZUrVaJ",
        "outputId": "5d727a94-6b95-4df4-a2d8-6d71c7c9dfe2"
      },
      "execution_count": 2,
      "outputs": [
        {
          "output_type": "stream",
          "name": "stdout",
          "text": [
            "Enter the two numbers as follows:\n",
            "Enter the first number: \n",
            "None25\n",
            "Enter the second number:\n",
            "None100\n",
            "100.0 is a multiple of 25.0\n"
          ]
        }
      ]
    },
    {
      "cell_type": "code",
      "source": [
        "#program that prompts the user for two numbers as input. Then, the program must compare the two numbers and print if they are equal or not. If the numbers are not equal, it must also print which number is greater (or lesser) than the other.\n",
        "print(\"Enter the two numbers as follows:\")\n",
        "number1 = float(input(print(\"Enter the first number: \")))\n",
        "number2 = float(input(print(\"Enter the second number:\")))\n",
        "if(number1 == number2):\n",
        "    print(number1, \"is equal to\", number2)\n",
        "else:\n",
        "    print(number1, \"is not equal to\", number2)"
      ],
      "metadata": {
        "colab": {
          "base_uri": "https://localhost:8080/"
        },
        "id": "95X_IAzJtXRX",
        "outputId": "32d566f0-7c9a-4643-8a49-be36e5361dba"
      },
      "execution_count": 3,
      "outputs": [
        {
          "output_type": "stream",
          "name": "stdout",
          "text": [
            "Enter the two numbers as follows:\n",
            "Enter the first number: \n",
            "None54\n",
            "Enter the second number:\n",
            "None53\n",
            "54.0 is not equal to 53.0\n"
          ]
        }
      ]
    },
    {
      "cell_type": "code",
      "source": [
        "#program that takes two numbers as inputs. Then, the program must compare the two numbers and print appropriately from among the following lines:\n",
        "print(\"Enter the two numbers as follows:\")\n",
        "number1 = float(input(print(\"Enter the first number: \")))\n",
        "number2 = float(input(print(\"Enter the second number:\")))\n",
        "\n",
        "#Both numbers are positive\n",
        "if((number1 > 0)&(number2 > 0)):\n",
        "    print(\"Both numbers are positive\")\n",
        "\n",
        "#Both numbers are negative\n",
        "elif((number1 < 0)&(number2 < 0)):\n",
        "    print(\"Both numbers are negative\")\n",
        "\n",
        "#Both numbers are zero\n",
        "elif((number1 == 0)&(number2 == 0)):\n",
        "    print(\"Both numbers are zero\")\n",
        "\n",
        "#At least one number is zero\n",
        "elif((number1 == 0)|(number2 == 0)):\n",
        "    print(\"At least one number is zero\")\n",
        "\n",
        "#One number is positive and the other number is negative\n",
        "elif(((number1 > 0)&(number2 < 0))|((number1 < 0)&(number2 > 0))):\n",
        "    print(\"One number is positive and the other is negative\")"
      ],
      "metadata": {
        "colab": {
          "base_uri": "https://localhost:8080/"
        },
        "id": "Iq4gh7pDtxBB",
        "outputId": "19fbc685-0b23-4cfd-d42f-fef664838e60"
      },
      "execution_count": 4,
      "outputs": [
        {
          "output_type": "stream",
          "name": "stdout",
          "text": [
            "Enter the two numbers as follows:\n",
            "Enter the first number: \n",
            "None-56\n",
            "Enter the second number:\n",
            "None1320\n",
            "One number is positive and the other is negative\n"
          ]
        }
      ]
    },
    {
      "cell_type": "code",
      "source": [
        "#program that calculates the factorial of a number. To calculate the factorial, you will need to make use of a while loop\n",
        "number = float(input(print(\"Enter the number: \")))\n",
        "input = number\n",
        "factorial = 1\n",
        "while (number > 0):\n",
        "  factorial = factorial * number\n",
        "  number = number - 1\n",
        "print(\"The factorial of\",input,\"is\",factorial)"
      ],
      "metadata": {
        "colab": {
          "base_uri": "https://localhost:8080/"
        },
        "id": "Z2jm8BQZuEhP",
        "outputId": "069cd2eb-174c-4788-b510-30547f43e714"
      },
      "execution_count": 5,
      "outputs": [
        {
          "output_type": "stream",
          "name": "stdout",
          "text": [
            "Enter the number: \n",
            "None6\n",
            "The factorial of 6.0 is 720.0\n"
          ]
        }
      ]
    },
    {
      "cell_type": "code",
      "source": [
        "#function that takes 2 integer arguments and returns their product but you must NOT use the product operator (*)\n",
        "def product(number1, number2):\n",
        "  product = 0\n",
        "  for i in range(number2):\n",
        "   product = product + number1\n",
        "  return product\n",
        "number1 = int(input(\"Enter the first number: \"))\n",
        "number2 = int(input(\"Enter the second number: \"))\n",
        "print(\"The product of the numbers is \", product(number1,\n",
        "number2))\n"
      ],
      "metadata": {
        "id": "V7PxMddUvja5",
        "colab": {
          "base_uri": "https://localhost:8080/",
          "height": 211
        },
        "collapsed": true,
        "outputId": "f08451b1-62f8-4400-ccea-ef035176b802"
      },
      "execution_count": 6,
      "outputs": [
        {
          "output_type": "error",
          "ename": "TypeError",
          "evalue": "'float' object is not callable",
          "traceback": [
            "\u001b[0;31m---------------------------------------------------------------------------\u001b[0m",
            "\u001b[0;31mTypeError\u001b[0m                                 Traceback (most recent call last)",
            "\u001b[0;32m<ipython-input-6-86332d517702>\u001b[0m in \u001b[0;36m<cell line: 7>\u001b[0;34m()\u001b[0m\n\u001b[1;32m      5\u001b[0m    \u001b[0mproduct\u001b[0m \u001b[0;34m=\u001b[0m \u001b[0mproduct\u001b[0m \u001b[0;34m+\u001b[0m \u001b[0mnumber1\u001b[0m\u001b[0;34m\u001b[0m\u001b[0;34m\u001b[0m\u001b[0m\n\u001b[1;32m      6\u001b[0m   \u001b[0;32mreturn\u001b[0m \u001b[0mproduct\u001b[0m\u001b[0;34m\u001b[0m\u001b[0;34m\u001b[0m\u001b[0m\n\u001b[0;32m----> 7\u001b[0;31m \u001b[0mnumber1\u001b[0m \u001b[0;34m=\u001b[0m \u001b[0mint\u001b[0m\u001b[0;34m(\u001b[0m\u001b[0minput\u001b[0m\u001b[0;34m(\u001b[0m\u001b[0;34m\"Enter the first number: \"\u001b[0m\u001b[0;34m)\u001b[0m\u001b[0;34m)\u001b[0m\u001b[0;34m\u001b[0m\u001b[0;34m\u001b[0m\u001b[0m\n\u001b[0m\u001b[1;32m      8\u001b[0m \u001b[0mnumber2\u001b[0m \u001b[0;34m=\u001b[0m \u001b[0mint\u001b[0m\u001b[0;34m(\u001b[0m\u001b[0minput\u001b[0m\u001b[0;34m(\u001b[0m\u001b[0;34m\"Enter the second number: \"\u001b[0m\u001b[0;34m)\u001b[0m\u001b[0;34m)\u001b[0m\u001b[0;34m\u001b[0m\u001b[0;34m\u001b[0m\u001b[0m\n\u001b[1;32m      9\u001b[0m print(\"The product of the numbers is \", product(number1,\n",
            "\u001b[0;31mTypeError\u001b[0m: 'float' object is not callable"
          ]
        }
      ]
    },
    {
      "cell_type": "code",
      "source": [
        "#a program that prompts the user for 3 strings variables. The user will input the strings separately at the prompt, e.g. “TRI”, “GONO” and “METRY”. The strings will then be passed to a function as arguments.\n",
        "def Combo_String(string):\n",
        "    for iteration in string:\n",
        "        print(iteration)\n",
        "    print(\"Total number of characters:\", len(string))\n",
        "\n",
        "string1 = input(\"Enter the first string: \")\n",
        "string2 = input(\"Enter the second string: \")\n",
        "string3 = input(\"Enter the third string: \")\n",
        "combined_string = string1 + string2 + string3\n",
        "print(combined_string)\n",
        "Combo_String(combined_string)\n",
        "\n",
        "\n"
      ],
      "metadata": {
        "id": "mkky-ISNws_I"
      },
      "execution_count": null,
      "outputs": []
    },
    {
      "cell_type": "code",
      "source": [
        "#a program that generates the following number sequences and print the output. You can use the range() function for this task. Use a loop to invoke the range function iteratively.\n",
        "#1, 2, 3… 20\n",
        "#2, 4, 6… 40\n",
        "#3, 6, 9… 60\n",
        "#4, 8, 12 … 80\n",
        "#…\n",
        "#10, 20, 30… 200\n",
        "\n",
        "for i in range(1, 11):\n",
        "# Generate the sequence\n",
        "  sequence = range(i, i * 20 + 1, i)\n",
        "  for j, num in enumerate(sequence):\n",
        "    if j > 0:\n",
        "      print(\", \", end=\"\")\n",
        "    print(num, end=\"\")\n",
        "  print()"
      ],
      "metadata": {
        "colab": {
          "base_uri": "https://localhost:8080/"
        },
        "id": "H8RYqrVC6BmJ",
        "outputId": "642bbb72-f9e1-42c4-f489-5c710425b16f"
      },
      "execution_count": 7,
      "outputs": [
        {
          "output_type": "stream",
          "name": "stdout",
          "text": [
            "1, 2, 3, 4, 5, 6, 7, 8, 9, 10, 11, 12, 13, 14, 15, 16, 17, 18, 19, 20\n",
            "2, 4, 6, 8, 10, 12, 14, 16, 18, 20, 22, 24, 26, 28, 30, 32, 34, 36, 38, 40\n",
            "3, 6, 9, 12, 15, 18, 21, 24, 27, 30, 33, 36, 39, 42, 45, 48, 51, 54, 57, 60\n",
            "4, 8, 12, 16, 20, 24, 28, 32, 36, 40, 44, 48, 52, 56, 60, 64, 68, 72, 76, 80\n",
            "5, 10, 15, 20, 25, 30, 35, 40, 45, 50, 55, 60, 65, 70, 75, 80, 85, 90, 95, 100\n",
            "6, 12, 18, 24, 30, 36, 42, 48, 54, 60, 66, 72, 78, 84, 90, 96, 102, 108, 114, 120\n",
            "7, 14, 21, 28, 35, 42, 49, 56, 63, 70, 77, 84, 91, 98, 105, 112, 119, 126, 133, 140\n",
            "8, 16, 24, 32, 40, 48, 56, 64, 72, 80, 88, 96, 104, 112, 120, 128, 136, 144, 152, 160\n",
            "9, 18, 27, 36, 45, 54, 63, 72, 81, 90, 99, 108, 117, 126, 135, 144, 153, 162, 171, 180\n",
            "10, 20, 30, 40, 50, 60, 70, 80, 90, 100, 110, 120, 130, 140, 150, 160, 170, 180, 190, 200\n"
          ]
        }
      ]
    },
    {
      "cell_type": "code",
      "source": [],
      "metadata": {
        "id": "fYGqkqsQ7V0-"
      },
      "execution_count": null,
      "outputs": []
    }
  ]
}